{
 "cells": [
  {
   "cell_type": "markdown",
   "metadata": {},
   "source": [
    "# Financial Planning with APIs and Simulations\n",
    "\n",
    "In this Challenge, you’ll create two financial analysis tools by using a single Jupyter notebook:\n",
    "\n",
    "Part 1: A financial planner for emergencies. The members will be able to use this tool to visualize their current savings. The members can then determine if they have enough reserves for an emergency fund.\n",
    "\n",
    "Part 2: A financial planner for retirement. This tool will forecast the performance of their retirement portfolio in 30 years. To do this, the tool will make an Alpaca API call via the Alpaca SDK to get historical price data for use in Monte Carlo simulations.\n",
    "\n",
    "You’ll use the information from the Monte Carlo simulation to answer questions about the portfolio in your Jupyter notebook.\n",
    "\n"
   ]
  },
  {
   "cell_type": "code",
   "execution_count": 32,
   "metadata": {},
   "outputs": [],
   "source": [
    "# Import the required libraries and dependencies\n",
    "import os\n",
    "import requests\n",
    "import json\n",
    "# import time\n",
    "\n",
    "import pandas as pd\n",
    "import alpaca_trade_api as tradeapi\n",
    "\n",
    "from datetime import datetime\n",
    "from dateutil import tz\n",
    "from dotenv   import load_dotenv\n",
    "from monte_carlo_sim.MCForecastTools import MCSimulation\n",
    "from monte_carlo_sim.alpaca.get_alpaca_daterange import dateranges\n",
    "\n",
    "%matplotlib inline\n"
   ]
  },
  {
   "cell_type": "code",
   "execution_count": 33,
   "metadata": {},
   "outputs": [
    {
     "data": {
      "text/plain": [
       "True"
      ]
     },
     "execution_count": 33,
     "metadata": {},
     "output_type": "execute_result"
    }
   ],
   "source": [
    "# Load the environment variables from the .env file\n",
    "#by calling the load_dotenv function\n",
    "load_dotenv()\n"
   ]
  },
  {
   "cell_type": "markdown",
   "metadata": {},
   "source": [
    "## Part 1: Create a Financial Planner for Emergencies"
   ]
  },
  {
   "cell_type": "markdown",
   "metadata": {},
   "source": [
    "### Evaluate the Cryptocurrency Wallet by Using the Requests Library\n",
    "\n",
    "In this section, you’ll determine the current value of a member’s cryptocurrency wallet. You’ll collect the current prices for the Bitcoin and Ethereum cryptocurrencies by using the Python Requests library. For the prototype, you’ll assume that the member holds the 1.2 Bitcoins (BTC) and 5.3 Ethereum coins (ETH). To do all this, complete the following steps:\n",
    "\n",
    "1. Create a variable named `monthly_income`, and set its value to `12000`.\n",
    "\n",
    "2. Use the Requests library to get the current price (in US dollars) of Bitcoin (BTC) and Ethereum (ETH) by using the API endpoints that the starter code supplies.\n",
    "\n",
    "3. Navigate the JSON response object to access the current price of each coin, and store each in a variable.\n",
    "\n",
    "    > **Hint** Note the specific identifier for each cryptocurrency in the API JSON response. The Bitcoin identifier is `1`, and the Ethereum identifier is `1027`.\n",
    "\n",
    "4. Calculate the value, in US dollars, of the current amount of each cryptocurrency and of the entire cryptocurrency wallet.\n",
    "\n"
   ]
  },
  {
   "cell_type": "code",
   "execution_count": 34,
   "metadata": {},
   "outputs": [],
   "source": [
    "def get_et_datetime(client_datetime, strformat):\n",
    "    # Find the set timezone and convert to \"America/New_York\" (ET).\n",
    "    to_zone     = tz.gettz('America/New_York')\n",
    "    et_datetime = client_datetime.astimezone(to_zone)\n",
    "    \n",
    "    return et_datetime.strftime(strformat)\n",
    "\n",
    "\n",
    "def combine_shares_title_str(shares):    \n",
    "    share_strs = [\" \".join([f\"{s:.1f}\", t]) for t, s in shares.items()]\n",
    "    share_strs = \" and \".join(share_strs)\n",
    "    \n",
    "    return share_strs\n",
    "\n",
    "\n",
    "def combine_coins_title_str(coins):    \n",
    "    coin_strs = [\" \".join([f\"{s:.2f}\", t]) for t, s in coins.items()]\n",
    "    coin_strs = \" and \".join(coin_strs)\n",
    "    \n",
    "    return coin_strs\n",
    "\n",
    "\n",
    "def closing_price_print(day, shares, title, value, portfolio):\n",
    "    print(f\"\"\"\n",
    "As of {day}, \n",
    "the closing price of the {portfolio}'s\n",
    "{shares:.1f} {title} is {value:,.2f} USD.\n",
    "    \"\"\")\n",
    "    \n",
    "    \n",
    "def closing_value_print(day, shares, title, value, portfolio):\n",
    "    print(f\"\"\"\n",
    "As of {day}, \n",
    "the total value of the {portfolio}'s\n",
    "{shares:.1f} {title} is {value:,.2f} USD.\n",
    "    \"\"\")\n",
    "    \n",
    "    \n",
    "def closing_portfolio_balance_print(day, value, portfolio, coins=None, shares=None):\n",
    "    share_strs = \"\"\n",
    "    coin_strs  = \"\"\n",
    "    if shares:\n",
    "        share_strs += combine_shares_title_str(shares) + \" shares\"\n",
    "        \n",
    "    if coins:\n",
    "        coin_strs  += combine_shares_title_str(coins)  + \" coins\"\n",
    "        \n",
    "    share_strs = \", \\nand \".join(filter(None, [share_strs, coin_strs]))\n",
    "    \n",
    "    print(f\"\"\"\n",
    "As of {day},\n",
    "the total closing value of the {portfolio} containing \n",
    "{share_strs} \n",
    "is {value:,.2f} USD.\n",
    "    \"\"\")\n"
   ]
  },
  {
   "cell_type": "code",
   "execution_count": 35,
   "metadata": {
    "code_folding": []
   },
   "outputs": [],
   "source": [
    "class Investment():\n",
    "    def __init__(self, ticker: str, name: str, count: float,\n",
    "                 currency: str, portfolio: str, time_format: str):\n",
    "        self.ticker          = ticker\n",
    "        self.name            = name\n",
    "        self.__count         = count\n",
    "        self.currency        = currency\n",
    "        self.portfolio       = portfolio\n",
    "        self.time_format     = time_format\n",
    "        self.__set_title()\n",
    "        self.__set_id(\"\")\n",
    "        self.__set_collection_time(0)\n",
    "        self.__set_price(0)\n",
    "        self.__set_value(0)\n",
    "\n",
    "    def __set_title(self):\n",
    "        self.title = f\"{self.name} ({self.ticker})\"\n",
    "    \n",
    "    def __set_id(self, id: str):\n",
    "        if id:\n",
    "            self.id = id\n",
    "        else:\n",
    "            self.id = None\n",
    "        \n",
    "    def __set_collection_time(self, timestamp: datetime):\n",
    "        if timestamp:\n",
    "            self.collection_time = get_et_datetime(timestamp, self.time_format)\n",
    "        else:\n",
    "            self.collection_time = None\n",
    "        \n",
    "    def __set_price(self, price: float):\n",
    "        if price:\n",
    "            self.price = price\n",
    "        else:\n",
    "            self.price = None\n",
    "            \n",
    "    def __set_value(self, value: float):\n",
    "        if value:\n",
    "            self.value = value\n",
    "        else:\n",
    "            self.value = None\n",
    "        \n",
    "    def closing_price_print(self):\n",
    "        closing_price_print(self.collection_time, \n",
    "                            self.__count, \n",
    "                            self.title, \n",
    "                            self.price, \n",
    "                            self.portfolio)\n",
    "        \n",
    "    def closing_value_print(self):\n",
    "        closing_value_print(self.collection_time, \n",
    "                            self.__count, \n",
    "                            self.title, \n",
    "                            self.value, \n",
    "                            self.portfolio)\n",
    "        \n",
    "    @staticmethod\n",
    "    def closing_portfolio_balance_print(collection_time,\n",
    "                                        value,\n",
    "                                        portfolio,\n",
    "                                        coins=None,\n",
    "                                        shares=None):        \n",
    "        \n",
    "        if coins:\n",
    "            if not isinstance(coins, list): coins = [coins,]\n",
    "            coins  = {c.title: c.coins  for c in coins}\n",
    "            \n",
    "        if shares:\n",
    "            if not isinstance(shares, list): shares = [shares,]\n",
    "            shares = {s.title: s.shares for s in shares}\n",
    "           \n",
    "        closing_portfolio_balance_print(collection_time,\n",
    "                                        value,\n",
    "                                        portfolio,\n",
    "                                        coins=coins,\n",
    "                                        shares=shares)\n"
   ]
  },
  {
   "cell_type": "code",
   "execution_count": 36,
   "metadata": {
    "code_folding": [
     0
    ]
   },
   "outputs": [],
   "source": [
    "class FreeCryptoResponse(Investment):\n",
    "    def __init__(self, ticker: str, name: str, coins: float, currency: str):\n",
    "        super().__init__(ticker,\n",
    "                         name,\n",
    "                         coins,\n",
    "                         currency,\n",
    "                         \"cryptocurrency wallet\",\n",
    "                         \"%a, %Y-%b-%d %H:%M:%S (%Z)\")\n",
    "        \n",
    "        self.coins = coins\n",
    "        self.set_response({})\n",
    "        \n",
    "    def set_response(self, response: dict):\n",
    "        if response:\n",
    "            self.response = response\n",
    "            \n",
    "            id        = list(response[\"data\"].keys())[0]\n",
    "            timestamp = datetime.fromtimestamp(response[\"metadata\"][\"timestamp\"])\n",
    "            price     = float(response[\"data\"][id][\"quotes\"][\"USD\"][\"price\"])\n",
    "            value     = self.coins * price\n",
    "                \n",
    "            self._Investment__set_id(id)            \n",
    "            self._Investment__set_collection_time(timestamp)\n",
    "            self._Investment__set_price(price)\n",
    "            self._Investment__set_value(value)\n",
    "        else:\n",
    "            self.response = response\n"
   ]
  },
  {
   "cell_type": "code",
   "execution_count": 37,
   "metadata": {
    "code_folding": [
     0
    ]
   },
   "outputs": [],
   "source": [
    "class AlpacaBarset(Investment):\n",
    "    def __init__(self, ticker: str, name: str, shares: float, currency: str):\n",
    "        super().__init__(ticker,\n",
    "                         name,\n",
    "                         shares,\n",
    "                         currency,\n",
    "                         \"stock and bond portion of the portfolio\",\n",
    "                         \"%a, %Y-%b-%d (%Z)\")\n",
    "        \n",
    "        self.shares = shares\n",
    "        self.set_response(pd.DataFrame())\n",
    "        \n",
    "    def set_response(self, response: pd.DataFrame):\n",
    "        if not response.empty:\n",
    "            self.response = response.loc[:, self.ticker]\n",
    "            \n",
    "            id        = \"\"\n",
    "            timestamp = response.iloc[-1].name\n",
    "            price     = response.loc[timestamp, (self.ticker, \"close\")]\n",
    "            value     = self.shares * price\n",
    "                \n",
    "            self._Investment__set_id(id)\n",
    "            self._Investment__set_collection_time(timestamp)\n",
    "            self._Investment__set_price(price)\n",
    "            self._Investment__set_value(value)\n",
    "        else:\n",
    "            self.response = response\n"
   ]
  },
  {
   "cell_type": "code",
   "execution_count": 38,
   "metadata": {},
   "outputs": [],
   "source": [
    "# The current number of coins for each cryptocurrency asset held in the portfolio.\n",
    "btc_coins = 1.2\n",
    "eth_coins = 5.3\n",
    "        "
   ]
  },
  {
   "cell_type": "markdown",
   "metadata": {},
   "source": [
    "#### Step 1: Create a variable named `monthly_income`, and set its value to `12000`."
   ]
  },
  {
   "cell_type": "code",
   "execution_count": 39,
   "metadata": {},
   "outputs": [
    {
     "data": {
      "text/plain": [
       "{'ticker': 'BTC',\n",
       " 'name': 'Bitcoin',\n",
       " '_Investment__count': 1.2,\n",
       " 'currency': 'USD',\n",
       " 'portfolio': 'cryptocurrency wallet',\n",
       " 'time_format': '%a, %Y-%b-%d %H:%M:%S (%Z)',\n",
       " 'title': 'Bitcoin (BTC)',\n",
       " 'id': None,\n",
       " 'collection_time': None,\n",
       " 'price': None,\n",
       " 'value': None,\n",
       " 'coins': 1.2,\n",
       " 'response': {}}"
      ]
     },
     "execution_count": 39,
     "metadata": {},
     "output_type": "execute_result"
    }
   ],
   "source": [
    "# The monthly amount for the member's household income\n",
    "monthly_income = 12000\n",
    "\n",
    "btc = FreeCryptoResponse(\"BTC\", \"Bitcoin\",  btc_coins, \"USD\")\n",
    "eth = FreeCryptoResponse(\"ETH\", \"Ethereum\", eth_coins, \"USD\")\n",
    "\n",
    "btc.__dict__\n"
   ]
  },
  {
   "cell_type": "markdown",
   "metadata": {},
   "source": [
    "#### Review the endpoint URLs for the API calls to Free Crypto API in order to get the current pricing information for both BTC and ETH."
   ]
  },
  {
   "cell_type": "code",
   "execution_count": 40,
   "metadata": {},
   "outputs": [],
   "source": [
    "# The Free Crypto API Call endpoint URLs for the held cryptocurrency assets\n",
    "btc_url = f\"https://api.alternative.me/v2/ticker/{btc.name}/?convert={btc.currency}\"\n",
    "eth_url = f\"https://api.alternative.me/v2/ticker/{eth.name}/?convert={eth.currency}\"\n"
   ]
  },
  {
   "cell_type": "markdown",
   "metadata": {},
   "source": [
    "#### Step 2. Use the Requests library to get the current price (in US dollars) of Bitcoin (BTC) and Ethereum (ETH) by using the API endpoints that the starter code supplied."
   ]
  },
  {
   "cell_type": "code",
   "execution_count": 41,
   "metadata": {},
   "outputs": [
    {
     "name": "stdout",
     "output_type": "stream",
     "text": [
      "{\n",
      "    \"data\": {\n",
      "        \"1\": {\n",
      "            \"circulating_supply\": 18764012,\n",
      "            \"id\": 1,\n",
      "            \"last_updated\": 1627010963,\n",
      "            \"max_supply\": 21000000,\n",
      "            \"name\": \"Bitcoin\",\n",
      "            \"quotes\": {\n",
      "                \"USD\": {\n",
      "                    \"market_cap\": 612527898100,\n",
      "                    \"percent_change_1h\": -0.0473490156374078,\n",
      "                    \"percent_change_24h\": 1.80833843186153,\n",
      "                    \"percent_change_7d\": 2.81720120976097,\n",
      "                    \"percentage_change_1h\": -0.0473490156374078,\n",
      "                    \"percentage_change_24h\": 1.80833843186153,\n",
      "                    \"percentage_change_7d\": 2.81720120976097,\n",
      "                    \"price\": 32620.0,\n",
      "                    \"volume_24h\": 20228880402\n",
      "                }\n",
      "            },\n",
      "            \"rank\": 1,\n",
      "            \"symbol\": \"BTC\",\n",
      "            \"total_supply\": 18764012,\n",
      "            \"website_slug\": \"bitcoin\"\n",
      "        }\n",
      "    },\n",
      "    \"metadata\": {\n",
      "        \"error\": null,\n",
      "        \"num_cryptocurrencies\": 3111,\n",
      "        \"timestamp\": 1627010963\n",
      "    }\n",
      "}\n"
     ]
    }
   ],
   "source": [
    "# Using the Python requests library, make an API call to access the current price of BTC\n",
    "btc_response = requests.get(btc_url).json()\n",
    "btc.set_response(btc_response)\n",
    "\n",
    "# Use the json.dumps function to review the response data from the API call\n",
    "# Use the indent and sort_keys parameters to make the response object readable\n",
    "print(json.dumps(btc_response, indent=4, sort_keys=True))\n"
   ]
  },
  {
   "cell_type": "code",
   "execution_count": 42,
   "metadata": {
    "scrolled": false
   },
   "outputs": [
    {
     "name": "stdout",
     "output_type": "stream",
     "text": [
      "{\n",
      "    \"data\": {\n",
      "        \"1027\": {\n",
      "            \"circulating_supply\": 116803686,\n",
      "            \"id\": 1027,\n",
      "            \"last_updated\": 1627010960,\n",
      "            \"max_supply\": 0,\n",
      "            \"name\": \"Ethereum\",\n",
      "            \"quotes\": {\n",
      "                \"USD\": {\n",
      "                    \"market_cap\": 241662762652,\n",
      "                    \"percent_change_1h\": -0.214610913442622,\n",
      "                    \"percent_change_24h\": 4.1936400217531,\n",
      "                    \"percent_change_7d\": 7.86436845064656,\n",
      "                    \"percentage_change_1h\": -0.214610913442622,\n",
      "                    \"percentage_change_24h\": 4.1936400217531,\n",
      "                    \"percentage_change_7d\": 7.86436845064656,\n",
      "                    \"price\": 2060.99,\n",
      "                    \"volume_24h\": 21958766349\n",
      "                }\n",
      "            },\n",
      "            \"rank\": 2,\n",
      "            \"symbol\": \"ETH\",\n",
      "            \"total_supply\": 116803686,\n",
      "            \"website_slug\": \"ethereum\"\n",
      "        }\n",
      "    },\n",
      "    \"metadata\": {\n",
      "        \"error\": null,\n",
      "        \"num_cryptocurrencies\": 3111,\n",
      "        \"timestamp\": 1627010960\n",
      "    }\n",
      "}\n"
     ]
    }
   ],
   "source": [
    "# Using the Python requests library, make an API call to access the current price ETH\n",
    "eth_response = requests.get(eth_url).json()\n",
    "eth.set_response(eth_response)\n",
    "\n",
    "# Use the json.dumps function to review the response data from the API call\n",
    "# Use the indent and sort_keys parameters to make the response object readable\n",
    "print(json.dumps(eth_response, indent=4, sort_keys=True))\n"
   ]
  },
  {
   "cell_type": "markdown",
   "metadata": {},
   "source": [
    "#### Step 3: Navigate the JSON response object to access the current price of each coin, and store each in a variable."
   ]
  },
  {
   "cell_type": "code",
   "execution_count": 43,
   "metadata": {
    "scrolled": true
   },
   "outputs": [
    {
     "name": "stdout",
     "output_type": "stream",
     "text": [
      "\n",
      "As of Thu, 2021-Jul-22 23:29:23 (EDT), \n",
      "the closing price of the cryptocurrency wallet's\n",
      "1.2 Bitcoin (BTC) is 32,620.00 USD.\n",
      "    \n"
     ]
    }
   ],
   "source": [
    "# Navigate the BTC response object to access the current price of BTC\n",
    "btc_price = float(btc.response[\"data\"][\"1\"][\"quotes\"][\"USD\"][\"price\"])\n",
    "\n",
    "# Print the current price of BTC\n",
    "btc.closing_price_print()\n"
   ]
  },
  {
   "cell_type": "code",
   "execution_count": 44,
   "metadata": {},
   "outputs": [
    {
     "name": "stdout",
     "output_type": "stream",
     "text": [
      "\n",
      "As of Thu, 2021-Jul-22 23:29:20 (EDT), \n",
      "the closing price of the cryptocurrency wallet's\n",
      "5.3 Ethereum (ETH) is 2,060.99 USD.\n",
      "    \n"
     ]
    }
   ],
   "source": [
    "# Navigate the BTC response object to access the current price of ETH\n",
    "eth_price = float(eth_response[\"data\"][\"1027\"][\"quotes\"][\"USD\"][\"price\"])\n",
    "\n",
    "# Print the current price of ETH\n",
    "eth.closing_price_print()\n"
   ]
  },
  {
   "cell_type": "markdown",
   "metadata": {},
   "source": [
    "### Step 4: Calculate the value, in US dollars, of the current amount of each cryptocurrency and of the entire cryptocurrency wallet."
   ]
  },
  {
   "cell_type": "code",
   "execution_count": 45,
   "metadata": {},
   "outputs": [
    {
     "name": "stdout",
     "output_type": "stream",
     "text": [
      "\n",
      "As of Thu, 2021-Jul-22 23:29:23 (EDT), \n",
      "the total value of the cryptocurrency wallet's\n",
      "1.2 Bitcoin (BTC) is 39,144.00 USD.\n",
      "    \n"
     ]
    }
   ],
   "source": [
    "# Compute the current value of the BTC holding \n",
    "btc_value = btc_coins * btc_price\n",
    "\n",
    "# Print current value of your holding in BTC\n",
    "btc.closing_value_print()\n"
   ]
  },
  {
   "cell_type": "code",
   "execution_count": 46,
   "metadata": {},
   "outputs": [
    {
     "name": "stdout",
     "output_type": "stream",
     "text": [
      "\n",
      "As of Thu, 2021-Jul-22 23:29:20 (EDT), \n",
      "the total value of the cryptocurrency wallet's\n",
      "5.3 Ethereum (ETH) is 10,923.25 USD.\n",
      "    \n"
     ]
    }
   ],
   "source": [
    "# Compute the current value of the ETH holding \n",
    "eth_value = btc_coins * btc_price\n",
    "\n",
    "# Print current value of your holding in ETH\n",
    "eth.closing_value_print()\n"
   ]
  },
  {
   "cell_type": "code",
   "execution_count": 47,
   "metadata": {
    "scrolled": true
   },
   "outputs": [
    {
     "name": "stdout",
     "output_type": "stream",
     "text": [
      "\n",
      "As of Thu, 2021-Jul-22 23:29:23 (EDT),\n",
      "the total closing value of the cryptocurrency wallet containing \n",
      "1.2 Bitcoin (BTC) and 5.3 Ethereum (ETH) coins \n",
      "is 78,288.00 USD.\n",
      "    \n"
     ]
    }
   ],
   "source": [
    "# Compute the total value of the cryptocurrency wallet\n",
    "# Add the value of the BTC holding to the value of the ETH holding\n",
    "total_crypto_wallet = btc_value + eth_value\n",
    "\n",
    "# Print current cryptocurrency wallet balance\n",
    "btc.closing_portfolio_balance_print(btc.collection_time,\n",
    "                                    total_crypto_wallet,\n",
    "                                    btc.portfolio,\n",
    "                                    coins=[btc, eth])\n"
   ]
  },
  {
   "cell_type": "markdown",
   "metadata": {},
   "source": [
    "### Evaluate the Stock and Bond Holdings by Using the Alpaca SDK\n",
    "\n",
    "In this section, you’ll determine the current value of a member’s stock and bond holdings. You’ll make an API call to Alpaca via the Alpaca SDK to get the current closing prices of the SPDR S&P 500 ETF Trust (ticker: SPY) and of the iShares Core US Aggregate Bond ETF (ticker: AGG). For the prototype, assume that the member holds 110 shares of SPY, which represents the stock portion of their portfolio, and 200 shares of AGG, which represents the bond portion. To do all this, complete the following steps:\n",
    "\n",
    "1. In the `Starter_Code` folder, create an environment file (`.env`) to store the values of your Alpaca API key and Alpaca secret key.\n",
    "\n",
    "2. Set the variables for the Alpaca API and secret keys. Using the Alpaca SDK, create the Alpaca `tradeapi.REST` object. In this object, include the parameters for the Alpaca API key, the secret key, and the version number.\n",
    "\n",
    "3. Set the following parameters for the Alpaca API call:\n",
    "\n",
    "    - `tickers`: Use the tickers for the member’s stock and bond holdings.\n",
    "\n",
    "    - `timeframe`: Use a time frame of one day.\n",
    "\n",
    "    - `start_date` and `end_date`: Use the same date for these parameters, and format them with the date of the previous weekday (or `2020-08-07`). This is because you want the one closing price for the most-recent trading day.\n",
    "\n",
    "4. Get the current closing prices for `SPY` and `AGG` by using the Alpaca `get_barset` function. Format the response as a Pandas DataFrame by including the `df` property at the end of the `get_barset` function.\n",
    "\n",
    "5. Navigating the Alpaca response DataFrame, select the `SPY` and `AGG` closing prices, and store them as variables.\n",
    "\n",
    "6. Calculate the value, in US dollars, of the current amount of shares in each of the stock and bond portions of the portfolio, and print the results.\n"
   ]
  },
  {
   "cell_type": "markdown",
   "metadata": {},
   "source": [
    "#### Review the total number of shares held in both (SPY) and (AGG)."
   ]
  },
  {
   "cell_type": "code",
   "execution_count": 48,
   "metadata": {},
   "outputs": [],
   "source": [
    "# Current amount of shares held in both the stock (SPY) and bond (AGG) portion of the portfolio.\n",
    "spy_shares = 110\n",
    "agg_shares = 200\n",
    "\n",
    "spy = AlpacaBarset(\"SPY\", \"SPDR S&P 500 ETF Trust\",              spy_shares, \"USD\")\n",
    "agg = AlpacaBarset(\"AGG\", \"iShares Core US Aggregate Bond ETF\",  agg_shares, \"USD\")\n"
   ]
  },
  {
   "cell_type": "markdown",
   "metadata": {},
   "source": [
    "#### Step 1: In the `Starter_Code` folder, create an environment file (`.env`) to store the values of your Alpaca API key and Alpaca secret key."
   ]
  },
  {
   "cell_type": "markdown",
   "metadata": {},
   "source": [
    "#### Step 2: Set the variables for the Alpaca API and secret keys. Using the Alpaca SDK, create the Alpaca `tradeapi.REST` object. In this object, include the parameters for the Alpaca API key, the secret key, and the version number."
   ]
  },
  {
   "cell_type": "code",
   "execution_count": 49,
   "metadata": {},
   "outputs": [
    {
     "data": {
      "text/plain": [
       "<alpaca_trade_api.rest.REST at 0x233b1abc748>"
      ]
     },
     "execution_count": 49,
     "metadata": {},
     "output_type": "execute_result"
    }
   ],
   "source": [
    "# Set the variables for the Alpaca API and secret keys\n",
    "alpaca_api_key    = os.getenv(\"ALPACA_API_KEY\")\n",
    "alpaca_secret_key = os.getenv(\"ALPACA_SECRET_KEY\")\n",
    "\n",
    "# Create the Alpaca tradeapi.REST object\n",
    "alpaca = tradeapi.REST(\n",
    "    alpaca_api_key,\n",
    "    alpaca_secret_key,\n",
    "    api_version=\"v2\",\n",
    ")\n",
    "\n",
    "alpaca\n"
   ]
  },
  {
   "cell_type": "markdown",
   "metadata": {},
   "source": [
    "#### Step 3: Set the following parameters for the Alpaca API call:\n",
    "\n",
    "- `tickers`: Use the tickers for the member’s stock and bond holdings.\n",
    "\n",
    "- `timeframe`: Use a time frame of one day.\n",
    "\n",
    "- `start_date` and `end_date`: Use the same date for these parameters, and format them with the date of the previous weekday (or `2020-08-07`). This is because you want the one closing price for the most-recent trading day.\n"
   ]
  },
  {
   "cell_type": "code",
   "execution_count": 50,
   "metadata": {},
   "outputs": [],
   "source": [
    "# Set the tickers for both the bond and stock portion of the portfolio\n",
    "tickers = [spy.ticker, agg.ticker]\n",
    "\n",
    "# Set timeframe to 1D \n",
    "timeframe = \"1D\"\n",
    "timezone  = \"America/New_York\"\n",
    "\n",
    "# Format current date as ISO format\n",
    "# Set both the start and end date at the date of your prior weekday \n",
    "# This will give you the closing price of the previous trading day\n",
    "# Alternatively you can use a start and end date of 2020-08-07\n",
    "start_date = pd.Timestamp(\"2020-08-07\", tz=timezone).isoformat()\n",
    "end_date   = pd.Timestamp(\"2020-08-07\", tz=timezone).isoformat()\n"
   ]
  },
  {
   "cell_type": "markdown",
   "metadata": {},
   "source": [
    "#### Step 4: Get the current closing prices for `SPY` and `AGG` by using the Alpaca `get_barset` function. Format the response as a Pandas DataFrame by including the `df` property at the end of the `get_barset` function."
   ]
  },
  {
   "cell_type": "code",
   "execution_count": 51,
   "metadata": {},
   "outputs": [
    {
     "data": {
      "text/html": [
       "<div>\n",
       "<style scoped>\n",
       "    .dataframe tbody tr th:only-of-type {\n",
       "        vertical-align: middle;\n",
       "    }\n",
       "\n",
       "    .dataframe tbody tr th {\n",
       "        vertical-align: top;\n",
       "    }\n",
       "\n",
       "    .dataframe thead tr th {\n",
       "        text-align: left;\n",
       "    }\n",
       "\n",
       "    .dataframe thead tr:last-of-type th {\n",
       "        text-align: right;\n",
       "    }\n",
       "</style>\n",
       "<table border=\"1\" class=\"dataframe\">\n",
       "  <thead>\n",
       "    <tr>\n",
       "      <th></th>\n",
       "      <th colspan=\"5\" halign=\"left\">AGG</th>\n",
       "      <th colspan=\"5\" halign=\"left\">SPY</th>\n",
       "    </tr>\n",
       "    <tr>\n",
       "      <th></th>\n",
       "      <th>open</th>\n",
       "      <th>high</th>\n",
       "      <th>low</th>\n",
       "      <th>close</th>\n",
       "      <th>volume</th>\n",
       "      <th>open</th>\n",
       "      <th>high</th>\n",
       "      <th>low</th>\n",
       "      <th>close</th>\n",
       "      <th>volume</th>\n",
       "    </tr>\n",
       "    <tr>\n",
       "      <th>time</th>\n",
       "      <th></th>\n",
       "      <th></th>\n",
       "      <th></th>\n",
       "      <th></th>\n",
       "      <th></th>\n",
       "      <th></th>\n",
       "      <th></th>\n",
       "      <th></th>\n",
       "      <th></th>\n",
       "      <th></th>\n",
       "    </tr>\n",
       "  </thead>\n",
       "  <tbody>\n",
       "    <tr>\n",
       "      <th>2020-08-07 00:00:00-04:00</th>\n",
       "      <td>119.66</td>\n",
       "      <td>119.73</td>\n",
       "      <td>119.395</td>\n",
       "      <td>119.445</td>\n",
       "      <td>8830420</td>\n",
       "      <td>333.28</td>\n",
       "      <td>334.88</td>\n",
       "      <td>332.3</td>\n",
       "      <td>334.55</td>\n",
       "      <td>98710236</td>\n",
       "    </tr>\n",
       "  </tbody>\n",
       "</table>\n",
       "</div>"
      ],
      "text/plain": [
       "                              AGG                                        SPY  \\\n",
       "                             open    high      low    close   volume    open   \n",
       "time                                                                           \n",
       "2020-08-07 00:00:00-04:00  119.66  119.73  119.395  119.445  8830420  333.28   \n",
       "\n",
       "                                                            \n",
       "                             high    low   close    volume  \n",
       "time                                                        \n",
       "2020-08-07 00:00:00-04:00  334.88  332.3  334.55  98710236  "
      ]
     },
     "execution_count": 51,
     "metadata": {},
     "output_type": "execute_result"
    }
   ],
   "source": [
    "# Use the Alpaca get_barset function to get current closing prices the portfolio\n",
    "# Be sure to set the `df` property after the function to format the response object as a DataFrame\n",
    "closing_prices_df = alpaca.get_barset(\n",
    "    tickers,\n",
    "    timeframe,\n",
    "    start=start_date,\n",
    "    end=end_date,\n",
    ").df\n",
    "\n",
    "# Review the first 5 rows of the Alpaca DataFrame\n",
    "closing_prices_df.head(5)\n"
   ]
  },
  {
   "cell_type": "markdown",
   "metadata": {},
   "source": [
    "#### Step 5: Navigating the Alpaca response DataFrame, select the `SPY` and `AGG` closing prices, and store them as variables."
   ]
  },
  {
   "cell_type": "code",
   "execution_count": 53,
   "metadata": {},
   "outputs": [],
   "source": [
    "gh = closing_prices_df.loc[:,\"AGG\"].drop(columns=\"close\")"
   ]
  },
  {
   "cell_type": "code",
   "execution_count": 61,
   "metadata": {},
   "outputs": [],
   "source": [
    "gh.drop(columns=\"low\", inplace=True)"
   ]
  },
  {
   "cell_type": "code",
   "execution_count": 66,
   "metadata": {},
   "outputs": [
    {
     "data": {
      "text/plain": [
       "list"
      ]
     },
     "execution_count": 66,
     "metadata": {},
     "output_type": "execute_result"
    }
   ],
   "source": [
    "type([\"high\"])"
   ]
  },
  {
   "cell_type": "code",
   "execution_count": 20,
   "metadata": {
    "scrolled": false
   },
   "outputs": [],
   "source": [
    "agg.set_response(closing_prices_df)\n",
    "spy.set_response(closing_prices_df)\n"
   ]
  },
  {
   "cell_type": "code",
   "execution_count": 21,
   "metadata": {},
   "outputs": [
    {
     "name": "stdout",
     "output_type": "stream",
     "text": [
      "\n",
      "As of Fri, 2020-Aug-07 (EDT), \n",
      "the closing price of the stock and bond portion of the portfolio's\n",
      "200.0 iShares Core US Aggregate Bond ETF (AGG) is 119.44 USD.\n",
      "    \n"
     ]
    }
   ],
   "source": [
    "# Access the closing price for AGG from the Alpaca DataFrame\n",
    "# Converting the value to a floating point number\n",
    "agg_close_price = float(closing_prices_df.loc[\"2020-08-07\",(\"AGG\",\"close\")])\n",
    "\n",
    "# Print the AGG closing price\n",
    "agg.closing_price_print()\n"
   ]
  },
  {
   "cell_type": "code",
   "execution_count": 22,
   "metadata": {},
   "outputs": [
    {
     "name": "stdout",
     "output_type": "stream",
     "text": [
      "\n",
      "As of Fri, 2020-Aug-07 (EDT), \n",
      "the closing price of the stock and bond portion of the portfolio's\n",
      "110.0 SPDR S&P 500 ETF Trust (SPY) is 334.55 USD.\n",
      "    \n"
     ]
    }
   ],
   "source": [
    "# Access the closing price for SPY from the Alpaca DataFrame\n",
    "# Converting the value to a floating point number\n",
    "spy_close_price = float(closing_prices_df.loc[\"2020-08-07\",(\"SPY\",\"close\")])\n",
    "\n",
    "# Print the SPY closing price\n",
    "spy.closing_price_print()\n"
   ]
  },
  {
   "cell_type": "markdown",
   "metadata": {},
   "source": [
    "#### Step 6: Calculate the value, in US dollars, of the current amount of shares in each of the stock and bond portions of the portfolio, and print the results."
   ]
  },
  {
   "cell_type": "code",
   "execution_count": 23,
   "metadata": {},
   "outputs": [
    {
     "name": "stdout",
     "output_type": "stream",
     "text": [
      "\n",
      "As of Fri, 2020-Aug-07 (EDT), \n",
      "the total value of the stock and bond portion of the portfolio's\n",
      "200.0 iShares Core US Aggregate Bond ETF (AGG) is 23,889.00 USD.\n",
      "    \n"
     ]
    }
   ],
   "source": [
    "# Calculate the current value of the bond portion of the portfolio\n",
    "agg_value = agg_shares * agg_close_price\n",
    "\n",
    "# Print the current value of the bond portfolio\n",
    "agg.closing_value_print()\n"
   ]
  },
  {
   "cell_type": "code",
   "execution_count": 24,
   "metadata": {},
   "outputs": [
    {
     "name": "stdout",
     "output_type": "stream",
     "text": [
      "\n",
      "As of Fri, 2020-Aug-07 (EDT), \n",
      "the total value of the stock and bond portion of the portfolio's\n",
      "110.0 SPDR S&P 500 ETF Trust (SPY) is 36,800.50 USD.\n",
      "    \n"
     ]
    }
   ],
   "source": [
    "# Calculate the current value of the stock portion of the portfolio\n",
    "spy_value = spy_shares * spy_close_price\n",
    "\n",
    "# Print the current value of the stock portfolio\n",
    "spy.closing_value_print()"
   ]
  },
  {
   "cell_type": "code",
   "execution_count": 25,
   "metadata": {},
   "outputs": [
    {
     "name": "stdout",
     "output_type": "stream",
     "text": [
      "\n",
      "As of Fri, 2020-Aug-07 (EDT),\n",
      "the total closing value of the stock and bond portion of the portfolio containing \n",
      "200.0 iShares Core US Aggregate Bond ETF (AGG) and 110.0 SPDR S&P 500 ETF Trust (SPY) shares \n",
      "is 60,689.50 USD.\n",
      "    \n"
     ]
    }
   ],
   "source": [
    "# Calculate the total value of the stock and bond portion of the portfolio\n",
    "total_stocks_bonds = agg_value + spy_value\n",
    "\n",
    "# Print the current balance of the stock and bond portion of the portfolio\n",
    "agg.closing_portfolio_balance_print(agg.collection_time,\n",
    "                                    total_stocks_bonds,\n",
    "                                    agg.portfolio,\n",
    "                                    shares=[agg, spy])\n"
   ]
  },
  {
   "cell_type": "code",
   "execution_count": 26,
   "metadata": {},
   "outputs": [
    {
     "name": "stdout",
     "output_type": "stream",
     "text": [
      "\n",
      "As of Thu, 2021-Jul-22 23:24:32 (EDT),\n",
      "the total closing value of the total containing \n",
      "110.0 SPDR S&P 500 ETF Trust (SPY) and 200.0 iShares Core US Aggregate Bond ETF (AGG) shares, \n",
      "and 1.2 Bitcoin (BTC) and 5.3 Ethereum (ETH) coins \n",
      "is 139,030.30 USD.\n",
      "    \n"
     ]
    }
   ],
   "source": [
    "# Calculate the total value of the member's entire savings portfolio\n",
    "# Add the value of the cryptocurrency walled to the value of the total stocks and bonds\n",
    "total_portfolio = total_stocks_bonds + total_crypto_wallet\n",
    "\n",
    "# Print current cryptocurrency wallet balance\n",
    "agg.closing_portfolio_balance_print(btc.collection_time,\n",
    "                                    total_portfolio,\n",
    "                                    \"total\",\n",
    "                                    coins=[btc, eth],\n",
    "                                    shares=[spy, agg])\n"
   ]
  },
  {
   "cell_type": "markdown",
   "metadata": {},
   "source": [
    "### Evaluate the Emergency Fund\n",
    "\n",
    "In this section, you’ll use the valuations for the cryptocurrency wallet and for the stock and bond portions of the portfolio to determine if the credit union member has enough savings to build an emergency fund into their financial plan. To do this, complete the following steps:\n",
    "\n",
    "1. Create a Python list named `savings_data` that has two elements. The first element contains the total value of the cryptocurrency wallet. The second element contains the total value of the stock and bond portions of the portfolio.\n",
    "\n",
    "2. Use the `savings_data` list to create a Pandas DataFrame named `savings_df`, and then display this DataFrame. The function to create the DataFrame should take the following three parameters:\n",
    "\n",
    "    - `savings_data`: Use the list that you just created.\n",
    "\n",
    "    - `columns`: Set this parameter equal to a Python list with a single value called `amount`.\n",
    "\n",
    "    - `index`: Set this parameter equal to a Python list with the values of `crypto` and `stock/bond`.\n",
    "\n",
    "3. Use the `savings_df` DataFrame to plot a pie chart that visualizes the composition of the member’s portfolio. The y-axis of the pie chart uses `amount`. Be sure to add a title.\n",
    "\n",
    "4. Using Python, determine if the current portfolio has enough to create an emergency fund as part of the member’s financial plan. Ideally, an emergency fund should equal to three times the member’s monthly income. To do this, implement the following steps:\n",
    "\n",
    "    1. Create a variable named `emergency_fund_value`, and set it equal to three times the value of the member’s `monthly_income` of $12000. (You set this earlier in Part 1).\n",
    "\n",
    "    2. Create a series of three if statements to determine if the member’s total portfolio is large enough to fund the emergency portfolio:\n",
    "\n",
    "        1. If the total portfolio value is greater than the emergency fund value, display a message congratulating the member for having enough money in this fund.\n",
    "\n",
    "        2. Else if the total portfolio value is equal to the emergency fund value, display a message congratulating the member on reaching this important financial goal.\n",
    "\n",
    "        3. Else the total portfolio is less than the emergency fund value, so display a message showing how many dollars away the member is from reaching the goal. (Subtract the total portfolio value from the emergency fund value.)\n"
   ]
  },
  {
   "cell_type": "markdown",
   "metadata": {},
   "source": [
    "#### Step 1: Create a Python list named `savings_data` that has two elements. The first element contains the total value of the cryptocurrency wallet. The second element contains the total value of the stock and bond portions of the portfolio."
   ]
  },
  {
   "cell_type": "code",
   "execution_count": null,
   "metadata": {},
   "outputs": [],
   "source": [
    "# Consolidate financial assets data into a Python list\n",
    "# YOUR CODE HERE\n",
    "\n",
    "# Review the Python list savings_data\n",
    "# YOUR CODE HERE\n",
    "    "
   ]
  },
  {
   "cell_type": "markdown",
   "metadata": {},
   "source": [
    "#### Step 2: Use the `savings_data` list to create a Pandas DataFrame named `savings_df`, and then display this DataFrame. The function to create the DataFrame should take the following three parameters:\n",
    "\n",
    "- `savings_data`: Use the list that you just created.\n",
    "\n",
    "- `columns`: Set this parameter equal to a Python list with a single value called `amount`.\n",
    "\n",
    "- `index`: Set this parameter equal to a Python list with the values of `crypto` and `stock/bond`.\n"
   ]
  },
  {
   "cell_type": "code",
   "execution_count": null,
   "metadata": {},
   "outputs": [],
   "source": [
    "# Create a Pandas DataFrame called savings_df \n",
    "# YOUR CODE HERE\n",
    "\n",
    "# Display the savings_df DataFrame\n",
    "# YOUR CODE HERE\n"
   ]
  },
  {
   "cell_type": "markdown",
   "metadata": {},
   "source": [
    "#### Step 3: Use the `savings_df` DataFrame to plot a pie chart that visualizes the composition of the member’s portfolio. The y-axis of the pie chart uses `amount`. Be sure to add a title."
   ]
  },
  {
   "cell_type": "code",
   "execution_count": null,
   "metadata": {},
   "outputs": [],
   "source": [
    "# Plot the total value of the member's portfolio (crypto and stock/bond) in a pie chart\n",
    "# YOUR CODE HERE\n"
   ]
  },
  {
   "cell_type": "markdown",
   "metadata": {},
   "source": [
    "#### Step 4: Using Python, determine if the current portfolio has enough to create an emergency fund as part of the member’s financial plan. Ideally, an emergency fund should equal to three times the member’s monthly income. To do this, implement the following steps:\n",
    "\n",
    "Step 1. Create a variable named `emergency_fund_value`, and set it equal to three times the value of the member’s `monthly_income` of 12000. (You set this earlier in Part 1).\n",
    "\n",
    "Step 2. Create a series of three if statements to determine if the member’s total portfolio is large enough to fund the emergency portfolio:\n",
    "\n",
    "* If the total portfolio value is greater than the emergency fund value, display a message congratulating the member for having enough money in this fund.\n",
    "\n",
    "* Else if the total portfolio value is equal to the emergency fund value, display a message congratulating the member on reaching this important financial goal.\n",
    "\n",
    "* Else the total portfolio is less than the emergency fund value, so display a message showing how many dollars away the member is from reaching the goal. (Subtract the total portfolio value from the emergency fund value.)\n"
   ]
  },
  {
   "cell_type": "markdown",
   "metadata": {},
   "source": [
    "##### Step 4-1: Create a variable named `emergency_fund_value`, and set it equal to three times the value of the member’s `monthly_income` of 12000. (You set this earlier in Part 1)."
   ]
  },
  {
   "cell_type": "code",
   "execution_count": null,
   "metadata": {},
   "outputs": [],
   "source": [
    "# Create a variable named emergency_fund_value\n",
    "# YOUR CODE HERE\n"
   ]
  },
  {
   "cell_type": "markdown",
   "metadata": {},
   "source": [
    "##### Step 4-2: Create a series of three if statements to determine if the member’s total portfolio is large enough to fund the emergency portfolio:\n",
    "\n",
    "* If the total portfolio value is greater than the emergency fund value, display a message congratulating the member for having enough money in this fund.\n",
    "\n",
    "* Else if the total portfolio value is equal to the emergency fund value, display a message congratulating the member on reaching this important financial goal.\n",
    "\n",
    "* Else the total portfolio is less than the emergency fund value, so display a message showing how many dollars away the member is from reaching the goal. (Subtract the total portfolio value from the emergency fund value.)"
   ]
  },
  {
   "cell_type": "code",
   "execution_count": null,
   "metadata": {},
   "outputs": [],
   "source": [
    "# Evaluate the possibility of creating an emergency fund with 3 conditions:\n",
    "# YOUR CODE HERE\n",
    "# YOUR CODE HERE\n",
    "# YOUR CODE HERE\n"
   ]
  },
  {
   "cell_type": "markdown",
   "metadata": {},
   "source": [
    "## Part 2: Create a Financial Planner for Retirement"
   ]
  },
  {
   "cell_type": "markdown",
   "metadata": {},
   "source": [
    "### Create the Monte Carlo Simulation\n",
    "\n",
    "In this section, you’ll use the MCForecastTools library to create a Monte Carlo simulation for the member’s savings portfolio. To do this, complete the following steps:\n",
    "\n",
    "1. Make an API call via the Alpaca SDK to get 3 years of historical closing prices for a traditional 60/40 portfolio split: 60% stocks (SPY) and 40% bonds (AGG).\n",
    "\n",
    "2. Run a Monte Carlo simulation of 500 samples and 30 years for the 60/40 portfolio, and then plot the results.The following image shows the overlay line plot resulting from a simulation with these characteristics. However, because a random number generator is used to run each live Monte Carlo simulation, your image will differ slightly from this exact image:\n",
    "\n",
    "![A screenshot depicts the resulting plot.](img/5-4-monte-carlo-line-plot.png)\n",
    "\n",
    "3. Plot the probability distribution of the Monte Carlo simulation. Plot the probability distribution of the Monte Carlo simulation. The following image shows the histogram plot resulting from a simulation with these characteristics. However, because a random number generator is used to run each live Monte Carlo simulation, your image will differ slightly from this exact image:\n",
    "\n",
    "![A screenshot depicts the histogram plot.](img/5-4-monte-carlo-histogram.png)\n",
    "\n",
    "4. Generate the summary statistics for the Monte Carlo simulation.\n",
    "\n"
   ]
  },
  {
   "cell_type": "markdown",
   "metadata": {},
   "source": [
    "#### Step 1: Make an API call via the Alpaca SDK to get 3 years of historical closing prices for a traditional 60/40 portfolio split: 60% stocks (SPY) and 40% bonds (AGG)."
   ]
  },
  {
   "cell_type": "code",
   "execution_count": null,
   "metadata": {},
   "outputs": [],
   "source": [
    "# Set start and end dates of 3 years back from your current date\n",
    "# Alternatively, you can use an end date of 2020-08-07 and work 3 years back from that date \n",
    "# YOUR CODE HERE\n",
    "# YOUR CODE HERE\n",
    "\n",
    "# Set number of rows to 1000 to retrieve the maximum amount of rows\n",
    "# YOUR CODE HERE"
   ]
  },
  {
   "cell_type": "code",
   "execution_count": null,
   "metadata": {},
   "outputs": [],
   "source": [
    "# Use the Alpaca get_barset function to make the API call to get the 3 years worth of pricing data\n",
    "# The tickers and timeframe parameters should have been set in Part 1 of this activity \n",
    "# The start and end dates should be updated with the information set above\n",
    "# Remember to add the df property to the end of the call so the response is returned as a DataFrame\n",
    "# YOUR CODE HERE\n",
    "\n",
    "\n",
    "# Display both the first and last five rows of the DataFrame\n",
    "# YOUR CODE HERE\n",
    "# YOUR CODE HERE\n"
   ]
  },
  {
   "cell_type": "markdown",
   "metadata": {},
   "source": [
    "#### Step 2: Run a Monte Carlo simulation of 500 samples and 30 years for the 60/40 portfolio, and then plot the results."
   ]
  },
  {
   "cell_type": "code",
   "execution_count": null,
   "metadata": {},
   "outputs": [],
   "source": [
    "# Configure the Monte Carlo simulation to forecast 30 years cumulative returns\n",
    "# The weights should be split 40% to AGG and 60% to SPY.\n",
    "# Run 500 samples.\n",
    "# YOUR CODE HERE\n",
    "\n",
    "# Review the simulation input data\n",
    "# YOUR CODE HERE\n"
   ]
  },
  {
   "cell_type": "code",
   "execution_count": null,
   "metadata": {},
   "outputs": [],
   "source": [
    "# Run the Monte Carlo simulation to forecast 30 years cumulative returns\n",
    "# YOUR CODE HERE\n"
   ]
  },
  {
   "cell_type": "code",
   "execution_count": null,
   "metadata": {},
   "outputs": [],
   "source": [
    "# Visualize the 30-year Monte Carlo simulation by creating an\n",
    "# overlay line plot\n",
    "# YOUR CODE HERE\n"
   ]
  },
  {
   "cell_type": "markdown",
   "metadata": {},
   "source": [
    "#### Step 3: Plot the probability distribution of the Monte Carlo simulation."
   ]
  },
  {
   "cell_type": "code",
   "execution_count": null,
   "metadata": {},
   "outputs": [],
   "source": [
    "# Visualize the probability distribution of the 30-year Monte Carlo simulation \n",
    "# by plotting a histogram\n",
    "# YOUR CODE HERE\n"
   ]
  },
  {
   "cell_type": "markdown",
   "metadata": {},
   "source": [
    "#### Step 4: Generate the summary statistics for the Monte Carlo simulation."
   ]
  },
  {
   "cell_type": "code",
   "execution_count": null,
   "metadata": {},
   "outputs": [],
   "source": [
    "# Generate summary statistics from the 30-year Monte Carlo simulation results\n",
    "# Save the results as a variable\n",
    "# YOUR CODE HERE\n",
    "\n",
    "\n",
    "# Review the 30-year Monte Carlo summary statistics\n",
    "# YOUR CODE HERE"
   ]
  },
  {
   "cell_type": "markdown",
   "metadata": {},
   "source": [
    "### Analyze the Retirement Portfolio Forecasts\n",
    "\n",
    "Using the current value of only the stock and bond portion of the member's portfolio and the summary statistics that you generated from the Monte Carlo simulation, answer the following question in your Jupyter notebook:\n",
    "\n",
    "-  What are the lower and upper bounds for the expected value of the portfolio with a 95% confidence interval?\n"
   ]
  },
  {
   "cell_type": "code",
   "execution_count": null,
   "metadata": {},
   "outputs": [],
   "source": [
    "# Print the current balance of the stock and bond portion of the members portfolio\n",
    "# YOUR CODE HERE\n"
   ]
  },
  {
   "cell_type": "code",
   "execution_count": null,
   "metadata": {},
   "outputs": [],
   "source": [
    "# Use the lower and upper `95%` confidence intervals to calculate the range of the possible outcomes for the current stock/bond portfolio\n",
    "ci_lower_thirty_cumulative_return = # YOUR CODE HERE\n",
    "ci_upper_thirty_cumulative_return = # YOUR CODE HERE\n",
    "\n",
    "# Print the result of your calculations\n",
    "# YOUR CODE HERE\n"
   ]
  },
  {
   "cell_type": "markdown",
   "metadata": {},
   "source": [
    "### Forecast Cumulative Returns in 10 Years\n",
    "\n",
    "The CTO of the credit union is impressed with your work on these planning tools but wonders if 30 years is a long time to wait until retirement. So, your next task is to adjust the retirement portfolio and run a new Monte Carlo simulation to find out if the changes will allow members to retire earlier.\n",
    "\n",
    "For this new Monte Carlo simulation, do the following: \n",
    "\n",
    "- Forecast the cumulative returns for 10 years from now. Because of the shortened investment horizon (30 years to 10 years), the portfolio needs to invest more heavily in the riskier asset&mdash;that is, stock&mdash;to help accumulate wealth for retirement. \n",
    "\n",
    "- Adjust the weights of the retirement portfolio so that the composition for the Monte Carlo simulation consists of 20% bonds and 80% stocks. \n",
    "\n",
    "- Run the simulation over 500 samples, and use the same data that the API call to Alpaca generated.\n",
    "\n",
    "- Based on the new Monte Carlo simulation, answer the following questions in your Jupyter notebook:\n",
    "\n",
    "    - Using the current value of only the stock and bond portion of the member's portfolio and the summary statistics that you generated from the new Monte Carlo simulation, what are the lower and upper bounds for the expected value of the portfolio (with the new weights) with a 95% confidence interval?\n",
    "\n",
    "    - Will weighting the portfolio more heavily toward stocks allow the credit union members to retire after only 10 years?\n"
   ]
  },
  {
   "cell_type": "code",
   "execution_count": null,
   "metadata": {},
   "outputs": [],
   "source": [
    "# Configure a Monte Carlo simulation to forecast 10 years cumulative returns\n",
    "# The weights should be split 20% to AGG and 80% to SPY.\n",
    "# Run 500 samples.\n",
    "# YOUR CODE HERE\n",
    "\n",
    "# Review the simulation input data\n",
    "# YOUR CODE HERE\n"
   ]
  },
  {
   "cell_type": "code",
   "execution_count": null,
   "metadata": {},
   "outputs": [],
   "source": [
    "# Run the Monte Carlo simulation to forecast 10 years cumulative returns\n",
    "# YOUR CODE HERE\n"
   ]
  },
  {
   "cell_type": "code",
   "execution_count": null,
   "metadata": {},
   "outputs": [],
   "source": [
    "# Visualize the 10-year Monte Carlo simulation by creating an\n",
    "# overlay line plot\n",
    "# YOUR CODE HERE\n"
   ]
  },
  {
   "cell_type": "code",
   "execution_count": null,
   "metadata": {},
   "outputs": [],
   "source": [
    "# Visualize the probability distribution of the 10-year Monte Carlo simulation \n",
    "# by plotting a histogram\n",
    "# YOUR CODE HERE\n"
   ]
  },
  {
   "cell_type": "code",
   "execution_count": null,
   "metadata": {},
   "outputs": [],
   "source": [
    "# Generate summary statistics from the 10-year Monte Carlo simulation results\n",
    "# Save the results as a variable\n",
    "# YOUR CODE HERE\n",
    "\n",
    "\n",
    "# Review the 10-year Monte Carlo summary statistics\n",
    "# YOUR CODE HERE"
   ]
  },
  {
   "cell_type": "markdown",
   "metadata": {},
   "source": [
    "### Answer the following questions:"
   ]
  },
  {
   "cell_type": "markdown",
   "metadata": {},
   "source": [
    "#### Question: Using the current value of only the stock and bond portion of the member's portfolio and the summary statistics that you generated from the new Monte Carlo simulation, what are the lower and upper bounds for the expected value of the portfolio (with the new weights) with a 95% confidence interval?"
   ]
  },
  {
   "cell_type": "code",
   "execution_count": null,
   "metadata": {},
   "outputs": [],
   "source": [
    "# Print the current balance of the stock and bond portion of the members portfolio\n",
    "# YOUR CODE HERE\n"
   ]
  },
  {
   "cell_type": "code",
   "execution_count": null,
   "metadata": {},
   "outputs": [],
   "source": [
    "# Use the lower and upper `95%` confidence intervals to calculate the range of the possible outcomes for the current stock/bond portfolio\n",
    "ci_lower_ten_cumulative_return = # YOUR CODE HERE\n",
    "ci_upper_ten_cumulative_return = # YOUR CODE HERE\n",
    "\n",
    "# Print the result of your calculations\n",
    "# YOUR CODE HERE\n"
   ]
  },
  {
   "cell_type": "markdown",
   "metadata": {},
   "source": [
    "#### Question: Will weighting the portfolio more heavily to stocks allow the credit union members to retire after only 10 years?"
   ]
  },
  {
   "cell_type": "raw",
   "metadata": {},
   "source": [
    "**Answer** # YOUR ANSWER HERE"
   ]
  },
  {
   "cell_type": "code",
   "execution_count": null,
   "metadata": {},
   "outputs": [],
   "source": []
  }
 ],
 "metadata": {
  "kernelspec": {
   "display_name": "Python (dev)",
   "language": "python",
   "name": "dev"
  },
  "language_info": {
   "codemirror_mode": {
    "name": "ipython",
    "version": 3
   },
   "file_extension": ".py",
   "mimetype": "text/x-python",
   "name": "python",
   "nbconvert_exporter": "python",
   "pygments_lexer": "ipython3",
   "version": "3.7.10"
  }
 },
 "nbformat": 4,
 "nbformat_minor": 4
}
